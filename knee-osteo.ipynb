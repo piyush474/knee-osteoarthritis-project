{
 "cells": [
  {
   "cell_type": "code",
   "execution_count": 1,
   "metadata": {},
   "outputs": [
    {
     "ename": "ModuleNotFoundError",
     "evalue": "No module named 'numpy'",
     "output_type": "error",
     "traceback": [
      "\u001b[0;31m---------------------------------------------------------------------------\u001b[0m",
      "\u001b[0;31mModuleNotFoundError\u001b[0m                       Traceback (most recent call last)",
      "Cell \u001b[0;32mIn[1], line 2\u001b[0m\n\u001b[1;32m      1\u001b[0m \u001b[38;5;28;01mimport\u001b[39;00m \u001b[38;5;21;01mos\u001b[39;00m\n\u001b[0;32m----> 2\u001b[0m \u001b[38;5;28;01mimport\u001b[39;00m \u001b[38;5;21;01mnumpy\u001b[39;00m \u001b[38;5;28;01mas\u001b[39;00m \u001b[38;5;21;01mnp\u001b[39;00m\n\u001b[1;32m      3\u001b[0m \u001b[38;5;28;01mimport\u001b[39;00m \u001b[38;5;21;01mpandas\u001b[39;00m \u001b[38;5;28;01mas\u001b[39;00m \u001b[38;5;21;01mpd\u001b[39;00m\n\u001b[1;32m      4\u001b[0m \u001b[38;5;28;01mimport\u001b[39;00m \u001b[38;5;21;01mmatplotlib\u001b[39;00m\u001b[38;5;21;01m.\u001b[39;00m\u001b[38;5;21;01mpyplot\u001b[39;00m \u001b[38;5;28;01mas\u001b[39;00m \u001b[38;5;21;01mplt\u001b[39;00m\n",
      "\u001b[0;31mModuleNotFoundError\u001b[0m: No module named 'numpy'"
     ]
    }
   ],
   "source": [
    "import os\n",
    "import numpy as np\n",
    "import pandas as pd\n",
    "import matplotlib.pyplot as plt\n",
    "import seaborn as sns\n",
    "import cv2\n",
    "import tensorflow as tf\n",
    "from tensorflow.keras.applications import Xception\n",
    "from tensorflow.keras.applications import InceptionResNetV2\n",
    "from tensorflow.keras.models import Model\n",
    "from tensorflow.keras.layers import (Input, GlobalAveragePooling2D, Dense, Dropout, \n",
    "                                     BatchNormalization, GaussianNoise, Reshape, MultiHeadAttention)\n",
    "from tensorflow.keras.preprocessing.image import ImageDataGenerator\n",
    "from tensorflow.keras.callbacks import EarlyStopping, ReduceLROnPlateau\n",
    "from tensorflow.keras.optimizers import Adam\n",
    "from sklearn.model_selection import train_test_split\n",
    "from sklearn.preprocessing import LabelEncoder\n",
    "from sklearn.metrics import classification_report, confusion_matrix\n",
    "from imblearn.over_sampling import RandomOverSampler\n",
    "from tensorflow.keras.regularizers import l2\n",
    "\n",
    "# Set logging level to reduce TensorFlow warnings\n",
    "os.environ['TF_CPP_MIN_LOG_LEVEL'] = '2'"
   ]
  },
  {
   "cell_type": "code",
   "execution_count": 1,
   "metadata": {},
   "outputs": [],
   "source": [
    "def preprocess_data(df):\n",
    "    label_encoder = LabelEncoder()\n",
    "    df['category_encoded'] = label_encoder.fit_transform(df['label'])\n",
    "    df = df[['image_path', 'category_encoded']]\n",
    "    df['category_encoded'] = df['category_encoded'].astype(str)  # Convert to string\n",
    "    return df\n"
   ]
  },
  {
   "cell_type": "code",
   "execution_count": null,
   "metadata": {},
   "outputs": [],
   "source": [
    "def load_and_preprocess_dataset(data_path, categories, folder=\"train\"):\n",
    "    image_paths, labels = [], []\n",
    "    for category in categories:\n",
    "        category_path = os.path.join(data_path, folder, category)\n",
    "        for image_name in os.listdir(category_path):\n",
    "            image_paths.append(os.path.join(category_path, image_name))\n",
    "            labels.append(category)\n",
    "    return preprocess_data(pd.DataFrame({\"image_path\": image_paths, \"label\": labels}))\n"
   ]
  },
  {
   "cell_type": "code",
   "execution_count": null,
   "metadata": {},
   "outputs": [],
   "source": [
    "\n",
    "def plot_label_distribution(df):\n",
    "    plt.figure(figsize=(8, 6))\n",
    "    sns.countplot(data=df, x=\"label\", palette=\"viridis\")\n",
    "    plt.title(\"Label Distribution\", fontsize=14, fontweight='bold')\n",
    "    plt.xlabel(\"Categories\")\n",
    "    plt.ylabel(\"Count\")\n",
    "    plt.show()\n"
   ]
  },
  {
   "cell_type": "code",
   "execution_count": null,
   "metadata": {},
   "outputs": [],
   "source": [
    "def balance_dataset(df):\n",
    "    ros = RandomOverSampler(random_state=42)\n",
    "    X_resampled, y_resampled = ros.fit_resample(df[['image_path']], df['category_encoded'])\n",
    "    return pd.DataFrame({'image_path': X_resampled['image_path'], 'category_encoded': y_resampled.astype(str)})\n"
   ]
  },
  {
   "cell_type": "code",
   "execution_count": null,
   "metadata": {},
   "outputs": [],
   "source": [
    "def create_generators(train_df, valid_df, test_df, img_size=(224, 224), batch_size=32):\n",
    "    train_data_gen = ImageDataGenerator(rescale=1./255, rotation_range=180, width_shift_range=0.2, \n",
    "                                    shear_range=0.1, zoom_range=0.2, brightness_range=[0.8, 1.2],\n",
    "                                    height_shift_range=0.2, horizontal_flip=True)\n",
    "    valid_data_gen = ImageDataGenerator(rescale=1./255)\n",
    "    test_data_gen = ImageDataGenerator(rescale=1./255)\n",
    "    return (\n",
    "        train_data_gen.flow_from_dataframe(train_df, x_col='image_path', y_col='category_encoded',\n",
    "                                     target_size=img_size, class_mode='sparse', batch_size=batch_size, shuffle=True),\n",
    "        valid_data_gen.flow_from_dataframe(valid_df, x_col='image_path', y_col='category_encoded',\n",
    "                                     target_size=img_size, class_mode='sparse', batch_size=batch_size, shuffle=False),\n",
    "        test_data_gen.flow_from_dataframe(test_df, x_col='image_path', y_col='category_encoded',\n",
    "                                     target_size=img_size, class_mode='sparse', batch_size=batch_size, shuffle=False)\n",
    "    )\n"
   ]
  },
  {
   "cell_type": "code",
   "execution_count": null,
   "metadata": {},
   "outputs": [],
   "source": [
    "def create_xception_model(input_shape, num_classes=3, learning_rate=1e-4):\n",
    "    inputs = Input(shape=input_shape)\n",
    "    base_model = Xception(weights=\"imagenet\", input_tensor=inputs, include_top=False)\n",
    "    base_model.trainable = True  # Unfreeze layers for fine-tuning\n",
    "    \n",
    "    x = base_model.output\n",
    "    x = GlobalAveragePooling2D()(x)\n",
    "    x = BatchNormalization()(x)\n",
    "    x = Dropout(0.4)(x)\n",
    "    x = Dense(512, activation=\"relu\", kernel_regularizer=l2(0.001))(x)\n",
    "    # x = Dropout(0.3)(x)\n",
    "    outputs = Dense(num_classes, activation=\"softmax\")(x)\n",
    "\n",
    "    # x = base_model.output\n",
    "    # x = GlobalAveragePooling2D()(x)\n",
    "    # x = BatchNormalization()(x)\n",
    "    # x = Dropout(0.5)(x)\n",
    "    # x = Dense(1024, activation=\"relu\")(x)\n",
    "    # x = BatchNormalization()(x)\n",
    "    # x = Dropout(0.5)(x)\n",
    "    # x = Dense(512, activation=\"relu\")(x)\n",
    "    # x = Dropout(0.5)(x)\n",
    "    # outputs = Dense(num_classes, activation=\"softmax\")(x)\n",
    "    \n",
    "    model = Model(inputs=inputs, outputs=outputs)\n",
    "    model.compile(optimizer=Adam(learning_rate=learning_rate),\n",
    "                  loss=\"sparse_categorical_crossentropy\", metrics=[\"accuracy\"])\n",
    "    return model\n"
   ]
  },
  {
   "cell_type": "code",
   "execution_count": null,
   "metadata": {},
   "outputs": [],
   "source": [
    "def create_irv2_model(input_shape, num_classes=3, learning_rate=1e-4, pretrained_weights='RadImageNet-IRV2_notop.h5'):\n",
    "    inputs = Input(shape=input_shape)\n",
    "    \n",
    "    # Load InceptionResNetV2 with RadImageNet weights\n",
    "    base_model = InceptionResNetV2(weights=pretrained_weights, include_top=False, input_tensor=inputs)\n",
    "    base_model.trainable = True  # Unfreeze layers for fine-tuning\n",
    "    \n",
    "    # Adding additional layers\n",
    "    x = base_model.output\n",
    "    x = GlobalAveragePooling2D()(x)\n",
    "    x = BatchNormalization()(x)\n",
    "    x = Dropout(0.4)(x)\n",
    "    x = Dense(512, activation=\"relu\")(x)\n",
    "    x = Dropout(0.3)(x)\n",
    "    outputs = Dense(num_classes, activation=\"softmax\")(x)\n",
    "    \n",
    "    model = Model(inputs=inputs, outputs=outputs)\n",
    "    \n",
    "    # Compile model\n",
    "    model.compile(optimizer=Adam(learning_rate=learning_rate),\n",
    "                  loss=\"sparse_categorical_crossentropy\",\n",
    "                  metrics=[\"accuracy\"])\n",
    "    \n",
    "    return model\n"
   ]
  },
  {
   "cell_type": "code",
   "execution_count": null,
   "metadata": {},
   "outputs": [],
   "source": [
    "def train_model(model, train_gen, valid_gen, epochs=100, steps_per_epoch=400):\n",
    "    callbacks = [\n",
    "        EarlyStopping(monitor='val_loss', patience=7, restore_best_weights=True),\n",
    "        ReduceLROnPlateau(monitor='val_loss', factor=0.2, patience=2, min_lr=1e-7, verbose=1)\n",
    "    ]\n",
    "    return model.fit(train_gen, validation_data=valid_gen, epochs=epochs, callbacks=callbacks, verbose=1)\n"
   ]
  },
  {
   "cell_type": "code",
   "execution_count": null,
   "metadata": {},
   "outputs": [],
   "source": [
    "def evaluate_model(model, test_gen):\n",
    "    predictions = np.argmax(model.predict(test_gen), axis=1)\n",
    "    report = classification_report(test_gen.classes, predictions, target_names=list(test_gen.class_indices.keys()))\n",
    "    print(report)\n",
    "    conf_matrix = confusion_matrix(test_gen.classes, predictions)\n",
    "    # plt.figure(figsize=(10, 8))\n",
    "    # sns.heatmap(conf_matrix, annot=True, fmt='d', cmap='Blues', xticklabels=list(test_gen.class_indices.keys()),\n",
    "    #             yticklabels=list(test_gen.class_indices.keys()))\n",
    "    # plt.title('Confusion Matrix')\n",
    "    # plt.xlabel('Predicted Label')\n",
    "    # plt.ylabel('True Label')\n",
    "    # plt.show()\n"
   ]
  },
  {
   "cell_type": "code",
   "execution_count": null,
   "metadata": {},
   "outputs": [],
   "source": [
    "data_path = \"Knee_Osteoarthritis_Classification\"\n",
    "categories = [\"Normal\", \"Osteopenia\", \"Osteoporosis\"]\n",
    "\n",
    "# Split dataset\n",
    "train_df = load_and_preprocess_dataset(data_path, categories, \"train\")\n",
    "train_df = balance_dataset(train_df)\n",
    "valid_df = load_and_preprocess_dataset(data_path, categories, \"val\")\n",
    "test_df = load_and_preprocess_dataset(data_path, categories, \"test\")"
   ]
  },
  {
   "cell_type": "code",
   "execution_count": null,
   "metadata": {},
   "outputs": [],
   "source": [
    "train_gen, valid_gen, test_gen = create_generators(train_df, valid_df, test_df, batch_size=32)\n",
    "\n",
    "def generator_wrapper():\n",
    "    while True:\n",
    "        for batch in train_gen:\n",
    "            yield batch\n",
    "\n",
    "\n",
    "train_dataset = tf.data.Dataset.from_generator(\n",
    "    generator_wrapper,\n",
    "    output_types=(tf.float32, tf.int32),\n",
    "    output_shapes=([None, 224, 224, 3], [None])\n",
    ")\n",
    "\n",
    "train_dataset = train_dataset.repeat().prefetch(buffer_size=tf.data.AUTOTUNE)"
   ]
  },
  {
   "cell_type": "code",
   "execution_count": null,
   "metadata": {},
   "outputs": [],
   "source": [
    "input_shape = (224, 224, 3)\n",
    "model = create_xception_model(input_shape)"
   ]
  },
  {
   "cell_type": "code",
   "execution_count": null,
   "metadata": {},
   "outputs": [],
   "source": [
    "history = train_model(model, train_gen, valid_gen)"
   ]
  },
  {
   "cell_type": "code",
   "execution_count": null,
   "metadata": {},
   "outputs": [],
   "source": [
    "model.save(\"knee_osteo2.h5\")"
   ]
  },
  {
   "cell_type": "code",
   "execution_count": null,
   "metadata": {},
   "outputs": [],
   "source": [
    "evaluate_model(model, test_gen)"
   ]
  },
  {
   "cell_type": "code",
   "execution_count": null,
   "metadata": {},
   "outputs": [],
   "source": []
  }
 ],
 "metadata": {
  "kernelspec": {
   "display_name": "Python 3",
   "language": "python",
   "name": "python3"
  },
  "language_info": {
   "codemirror_mode": {
    "name": "ipython",
    "version": 3
   },
   "file_extension": ".py",
   "mimetype": "text/x-python",
   "name": "python",
   "nbconvert_exporter": "python",
   "pygments_lexer": "ipython3",
   "version": "3.12.3"
  }
 },
 "nbformat": 4,
 "nbformat_minor": 2
}
